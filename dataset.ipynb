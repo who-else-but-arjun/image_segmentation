{
 "cells": [
  {
   "cell_type": "code",
   "execution_count": 5,
   "metadata": {},
   "outputs": [
    {
     "name": "stdout",
     "output_type": "stream",
     "text": [
      "Copied 200 images to eval_images and eval_predicted_images.\n"
     ]
    }
   ],
   "source": [
    "import os\n",
    "import shutil\n",
    "\n",
    "# Directories\n",
    "train_dir = 'dataset/train'  # Directory containing train subfolders with frameXXXX_leftImg8bit.jpg\n",
    "labels_dir = 'dataset/labels'  # Directory containing subfolders with frameXXXX_gtFine_labelColors.png\n",
    "output_dir = 'evaluation_data'  # Output directory for eval images\n",
    "\n",
    "eval_images_dir = os.path.join(output_dir, 'eval_images')\n",
    "eval_predicted_images_dir = os.path.join(output_dir, 'eval_predicted_images')\n",
    "\n",
    "# Create output directories if they don't exist\n",
    "os.makedirs(eval_images_dir, exist_ok=True)\n",
    "os.makedirs(eval_predicted_images_dir, exist_ok=True)\n",
    "\n",
    "image_count = 0  # Counter for copied images\n",
    "max_images = 200  # Limit to 200 images\n",
    "\n",
    "# List to store processed filenames (without extensions) to avoid duplicates\n",
    "processed_images = []\n",
    "\n",
    "# Loop over subfolders in the train directory\n",
    "for subfolder in os.listdir(train_dir):\n",
    "    train_subfolder_path = os.path.join(train_dir, subfolder)\n",
    "    label_subfolder_path = os.path.join(labels_dir, subfolder)\n",
    "\n",
    "    if os.path.isdir(train_subfolder_path) and os.path.isdir(label_subfolder_path):\n",
    "        for filename in os.listdir(train_subfolder_path):\n",
    "            if filename.endswith('_leftImg8bit.jpg'):\n",
    "                file_number = filename.split('_')[0]\n",
    "                label_filename = f\"{file_number}_gtFine_labelColors.png\"\n",
    "                image_path = os.path.join(train_subfolder_path, filename)\n",
    "                label_path = os.path.join(label_subfolder_path, label_filename)\n",
    "\n",
    "                if os.path.exists(image_path) and os.path.exists(label_path) and file_number not in processed_images:\n",
    "                    # Copy the train image and labelColors image with the same name (frameXXXX.jpg)\n",
    "                    eval_image_path = os.path.join(eval_images_dir, f\"frame{file_number}.jpg\")\n",
    "                    eval_label_path = os.path.join(eval_predicted_images_dir, f\"frame{file_number}.png\")\n",
    "\n",
    "                    shutil.copy(image_path, eval_image_path)\n",
    "                    shutil.copy(label_path, eval_label_path)\n",
    "\n",
    "                    processed_images.append(file_number)  # Mark as processed\n",
    "                    image_count += 1\n",
    "\n",
    "                    if image_count >= max_images:\n",
    "                        break  # Stop after copying 200 images\n",
    "        if image_count >= max_images:\n",
    "            break  # Stop after copying 200 images\n",
    "\n",
    "print(f\"Copied {image_count} images to eval_images and eval_predicted_images.\")\n"
   ]
  }
 ],
 "metadata": {
  "kernelspec": {
   "display_name": "base",
   "language": "python",
   "name": "python3"
  },
  "language_info": {
   "codemirror_mode": {
    "name": "ipython",
    "version": 3
   },
   "file_extension": ".py",
   "mimetype": "text/x-python",
   "name": "python",
   "nbconvert_exporter": "python",
   "pygments_lexer": "ipython3",
   "version": "3.11.9"
  }
 },
 "nbformat": 4,
 "nbformat_minor": 2
}
